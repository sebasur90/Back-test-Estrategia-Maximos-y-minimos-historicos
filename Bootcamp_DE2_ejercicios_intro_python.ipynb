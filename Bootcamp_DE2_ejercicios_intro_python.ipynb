{
  "nbformat": 4,
  "nbformat_minor": 0,
  "metadata": {
    "colab": {
      "provenance": [],
      "collapsed_sections": [
        "MXV4S8C-nM5B"
      ],
      "include_colab_link": true
    },
    "kernelspec": {
      "name": "python3",
      "display_name": "Python 3"
    },
    "language_info": {
      "name": "python"
    }
  },
  "cells": [
    {
      "cell_type": "markdown",
      "metadata": {
        "id": "view-in-github",
        "colab_type": "text"
      },
      "source": [
        "<a href=\"https://colab.research.google.com/github/sebasur90/Back-test-Estrategia-Maximos-y-minimos-historicos/blob/main/Bootcamp_DE2_ejercicios_intro_python.ipynb\" target=\"_parent\"><img src=\"https://colab.research.google.com/assets/colab-badge.svg\" alt=\"Open In Colab\"/></a>"
      ]
    },
    {
      "cell_type": "markdown",
      "source": [
        "\n",
        "<img src=\"https://i.ibb.co/PQjhtPK/Logo-Datos-Vivos.png\" width=\"400px\"> \n",
        "\n",
        "# Bootcamp Data Engineer\n",
        "\n",
        "\n",
        "\n",
        "Seguinos en las redes para mas contenido:\n",
        " [Instagram](https://www.instagram.com/escueladedatosvivos/) | [Linkedin](https://www.linkedin.com/company/escuela-de-datos-vivos/) | [Twitter](https://twitter.com/datos_vivos) \n",
        "\n",
        "Canal de [YouTube](https://www.youtube.com/c/Escueladedatosvivosai).\n",
        "\n",
        "<br>\n",
        "\n",
        "\n",
        "\n",
        "---"
      ],
      "metadata": {
        "id": "MXV4S8C-nM5B"
      }
    },
    {
      "cell_type": "markdown",
      "source": [
        "# Ejercicios introductorios a Python"
      ],
      "metadata": {
        "id": "wWCV60dznwXO"
      }
    },
    {
      "cell_type": "markdown",
      "source": [
        "## 1) Importar datos y analisis inicial"
      ],
      "metadata": {
        "id": "S-qa_fuvh2My"
      }
    },
    {
      "cell_type": "markdown",
      "source": [
        "1.a) Importar datos y verificar datatypes\n",
        "\n",
        "https://raw.githubusercontent.com/pablo14/datasets/main/star_wars/starwars.csv"
      ],
      "metadata": {
        "id": "3UPqSHWrh5tC"
      }
    },
    {
      "cell_type": "code",
      "source": [
        "datos=pd.read_csv(\"https://raw.githubusercontent.com/pablo14/datasets/main/star_wars/starwars.csv\")"
      ],
      "metadata": {
        "id": "7DoruLUkqjKn"
      },
      "execution_count": 179,
      "outputs": []
    },
    {
      "cell_type": "markdown",
      "source": [
        "1.b) Con iloc, mostrar toda la columna name"
      ],
      "metadata": {
        "id": "NjAnw71JiNte"
      }
    },
    {
      "cell_type": "code",
      "source": [
        "datos.iloc[:,0]"
      ],
      "metadata": {
        "id": "udUivD7gqjiU",
        "colab": {
          "base_uri": "https://localhost:8080/"
        },
        "outputId": "dc9b2e56-ce9f-465a-f25b-0aa43872c996"
      },
      "execution_count": 180,
      "outputs": [
        {
          "output_type": "execute_result",
          "data": {
            "text/plain": [
              "0     Luke Skywalker\n",
              "1              C-3PO\n",
              "2              R2-D2\n",
              "3        Darth Vader\n",
              "4        Leia Organa\n",
              "           ...      \n",
              "82               Rey\n",
              "83       Poe Dameron\n",
              "84               BB8\n",
              "85    Captain Phasma\n",
              "86     Padmé Amidala\n",
              "Name: name, Length: 87, dtype: object"
            ]
          },
          "metadata": {},
          "execution_count": 180
        }
      ]
    },
    {
      "cell_type": "markdown",
      "source": [
        "1.c) Con iloc, mostrar todo el registro 3"
      ],
      "metadata": {
        "id": "UbQ81_XljBDm"
      }
    },
    {
      "cell_type": "code",
      "source": [
        "datos.iloc[3]"
      ],
      "metadata": {
        "id": "rWpgcf-3qj27",
        "colab": {
          "base_uri": "https://localhost:8080/"
        },
        "outputId": "f6e5e3d5-b022-458e-f50f-0ea259ac1077"
      },
      "execution_count": 181,
      "outputs": [
        {
          "output_type": "execute_result",
          "data": {
            "text/plain": [
              "name          Darth Vader\n",
              "height              202.0\n",
              "mass                136.0\n",
              "hair_color           none\n",
              "skin_color          white\n",
              "eye_color          yellow\n",
              "birth_year           41.9\n",
              "sex                  male\n",
              "gender          masculine\n",
              "homeworld        Tatooine\n",
              "species             Human\n",
              "Name: 3, dtype: object"
            ]
          },
          "metadata": {},
          "execution_count": 181
        }
      ]
    },
    {
      "cell_type": "markdown",
      "source": [
        "1.d) Mostrar los nombres de columnas del dataframe"
      ],
      "metadata": {
        "id": "-iDGbyIqjdTe"
      }
    },
    {
      "cell_type": "code",
      "source": [
        "datos.columns"
      ],
      "metadata": {
        "id": "a9WcJkRDqkND",
        "colab": {
          "base_uri": "https://localhost:8080/"
        },
        "outputId": "6a48781f-00e0-497e-c92f-9a4aa9b1eceb"
      },
      "execution_count": 182,
      "outputs": [
        {
          "output_type": "execute_result",
          "data": {
            "text/plain": [
              "Index(['name', 'height', 'mass', 'hair_color', 'skin_color', 'eye_color',\n",
              "       'birth_year', 'sex', 'gender', 'homeworld', 'species'],\n",
              "      dtype='object')"
            ]
          },
          "metadata": {},
          "execution_count": 182
        }
      ]
    },
    {
      "cell_type": "markdown",
      "source": [
        "1.e) Mostrar el shape del dataframe"
      ],
      "metadata": {
        "id": "Aa8q2f3rkkcp"
      }
    },
    {
      "cell_type": "code",
      "source": [
        "datos.shape"
      ],
      "metadata": {
        "id": "OC8QvlBLqko8",
        "colab": {
          "base_uri": "https://localhost:8080/"
        },
        "outputId": "613b1817-9a9d-4a44-cad3-e3d3a3e60426"
      },
      "execution_count": 184,
      "outputs": [
        {
          "output_type": "execute_result",
          "data": {
            "text/plain": [
              "(87, 11)"
            ]
          },
          "metadata": {},
          "execution_count": 184
        }
      ]
    },
    {
      "cell_type": "markdown",
      "source": [
        "1.f) Mostrar los primeros 10 registros"
      ],
      "metadata": {
        "id": "wvj_J_1OkyzJ"
      }
    },
    {
      "cell_type": "code",
      "source": [
        "datos.head(10)"
      ],
      "metadata": {
        "id": "lRXxPbH3qk7s",
        "colab": {
          "base_uri": "https://localhost:8080/",
          "height": 363
        },
        "outputId": "53f75755-47af-46dd-95a1-b1b39cf13946"
      },
      "execution_count": 186,
      "outputs": [
        {
          "output_type": "execute_result",
          "data": {
            "text/plain": [
              "                 name  height   mass     hair_color   skin_color  eye_color  \\\n",
              "0      Luke Skywalker   172.0   77.0          blond         fair       blue   \n",
              "1               C-3PO   167.0   75.0            NaN         gold     yellow   \n",
              "2               R2-D2    96.0   32.0            NaN  white, blue        red   \n",
              "3         Darth Vader   202.0  136.0           none        white     yellow   \n",
              "4         Leia Organa   150.0   49.0          brown        light      brown   \n",
              "5           Owen Lars   178.0  120.0    brown, grey        light       blue   \n",
              "6  Beru Whitesun lars   165.0   75.0          brown        light       blue   \n",
              "7               R5-D4    97.0   32.0            NaN   white, red        red   \n",
              "8   Biggs Darklighter   183.0   84.0          black        light      brown   \n",
              "9      Obi-Wan Kenobi   182.0   77.0  auburn, white         fair  blue-gray   \n",
              "\n",
              "   birth_year     sex     gender homeworld species  \n",
              "0        19.0    male  masculine  Tatooine   Human  \n",
              "1       112.0    none  masculine  Tatooine   Droid  \n",
              "2        33.0    none  masculine     Naboo   Droid  \n",
              "3        41.9    male  masculine  Tatooine   Human  \n",
              "4        19.0  female   feminine  Alderaan   Human  \n",
              "5        52.0    male  masculine  Tatooine   Human  \n",
              "6        47.0  female   feminine  Tatooine   Human  \n",
              "7         NaN    none  masculine  Tatooine   Droid  \n",
              "8        24.0    male  masculine  Tatooine   Human  \n",
              "9        57.0    male  masculine   Stewjon   Human  "
            ],
            "text/html": [
              "\n",
              "  <div id=\"df-4294d1fd-5560-4d6b-a2f8-c6388d80eb13\">\n",
              "    <div class=\"colab-df-container\">\n",
              "      <div>\n",
              "<style scoped>\n",
              "    .dataframe tbody tr th:only-of-type {\n",
              "        vertical-align: middle;\n",
              "    }\n",
              "\n",
              "    .dataframe tbody tr th {\n",
              "        vertical-align: top;\n",
              "    }\n",
              "\n",
              "    .dataframe thead th {\n",
              "        text-align: right;\n",
              "    }\n",
              "</style>\n",
              "<table border=\"1\" class=\"dataframe\">\n",
              "  <thead>\n",
              "    <tr style=\"text-align: right;\">\n",
              "      <th></th>\n",
              "      <th>name</th>\n",
              "      <th>height</th>\n",
              "      <th>mass</th>\n",
              "      <th>hair_color</th>\n",
              "      <th>skin_color</th>\n",
              "      <th>eye_color</th>\n",
              "      <th>birth_year</th>\n",
              "      <th>sex</th>\n",
              "      <th>gender</th>\n",
              "      <th>homeworld</th>\n",
              "      <th>species</th>\n",
              "    </tr>\n",
              "  </thead>\n",
              "  <tbody>\n",
              "    <tr>\n",
              "      <th>0</th>\n",
              "      <td>Luke Skywalker</td>\n",
              "      <td>172.0</td>\n",
              "      <td>77.0</td>\n",
              "      <td>blond</td>\n",
              "      <td>fair</td>\n",
              "      <td>blue</td>\n",
              "      <td>19.0</td>\n",
              "      <td>male</td>\n",
              "      <td>masculine</td>\n",
              "      <td>Tatooine</td>\n",
              "      <td>Human</td>\n",
              "    </tr>\n",
              "    <tr>\n",
              "      <th>1</th>\n",
              "      <td>C-3PO</td>\n",
              "      <td>167.0</td>\n",
              "      <td>75.0</td>\n",
              "      <td>NaN</td>\n",
              "      <td>gold</td>\n",
              "      <td>yellow</td>\n",
              "      <td>112.0</td>\n",
              "      <td>none</td>\n",
              "      <td>masculine</td>\n",
              "      <td>Tatooine</td>\n",
              "      <td>Droid</td>\n",
              "    </tr>\n",
              "    <tr>\n",
              "      <th>2</th>\n",
              "      <td>R2-D2</td>\n",
              "      <td>96.0</td>\n",
              "      <td>32.0</td>\n",
              "      <td>NaN</td>\n",
              "      <td>white, blue</td>\n",
              "      <td>red</td>\n",
              "      <td>33.0</td>\n",
              "      <td>none</td>\n",
              "      <td>masculine</td>\n",
              "      <td>Naboo</td>\n",
              "      <td>Droid</td>\n",
              "    </tr>\n",
              "    <tr>\n",
              "      <th>3</th>\n",
              "      <td>Darth Vader</td>\n",
              "      <td>202.0</td>\n",
              "      <td>136.0</td>\n",
              "      <td>none</td>\n",
              "      <td>white</td>\n",
              "      <td>yellow</td>\n",
              "      <td>41.9</td>\n",
              "      <td>male</td>\n",
              "      <td>masculine</td>\n",
              "      <td>Tatooine</td>\n",
              "      <td>Human</td>\n",
              "    </tr>\n",
              "    <tr>\n",
              "      <th>4</th>\n",
              "      <td>Leia Organa</td>\n",
              "      <td>150.0</td>\n",
              "      <td>49.0</td>\n",
              "      <td>brown</td>\n",
              "      <td>light</td>\n",
              "      <td>brown</td>\n",
              "      <td>19.0</td>\n",
              "      <td>female</td>\n",
              "      <td>feminine</td>\n",
              "      <td>Alderaan</td>\n",
              "      <td>Human</td>\n",
              "    </tr>\n",
              "    <tr>\n",
              "      <th>5</th>\n",
              "      <td>Owen Lars</td>\n",
              "      <td>178.0</td>\n",
              "      <td>120.0</td>\n",
              "      <td>brown, grey</td>\n",
              "      <td>light</td>\n",
              "      <td>blue</td>\n",
              "      <td>52.0</td>\n",
              "      <td>male</td>\n",
              "      <td>masculine</td>\n",
              "      <td>Tatooine</td>\n",
              "      <td>Human</td>\n",
              "    </tr>\n",
              "    <tr>\n",
              "      <th>6</th>\n",
              "      <td>Beru Whitesun lars</td>\n",
              "      <td>165.0</td>\n",
              "      <td>75.0</td>\n",
              "      <td>brown</td>\n",
              "      <td>light</td>\n",
              "      <td>blue</td>\n",
              "      <td>47.0</td>\n",
              "      <td>female</td>\n",
              "      <td>feminine</td>\n",
              "      <td>Tatooine</td>\n",
              "      <td>Human</td>\n",
              "    </tr>\n",
              "    <tr>\n",
              "      <th>7</th>\n",
              "      <td>R5-D4</td>\n",
              "      <td>97.0</td>\n",
              "      <td>32.0</td>\n",
              "      <td>NaN</td>\n",
              "      <td>white, red</td>\n",
              "      <td>red</td>\n",
              "      <td>NaN</td>\n",
              "      <td>none</td>\n",
              "      <td>masculine</td>\n",
              "      <td>Tatooine</td>\n",
              "      <td>Droid</td>\n",
              "    </tr>\n",
              "    <tr>\n",
              "      <th>8</th>\n",
              "      <td>Biggs Darklighter</td>\n",
              "      <td>183.0</td>\n",
              "      <td>84.0</td>\n",
              "      <td>black</td>\n",
              "      <td>light</td>\n",
              "      <td>brown</td>\n",
              "      <td>24.0</td>\n",
              "      <td>male</td>\n",
              "      <td>masculine</td>\n",
              "      <td>Tatooine</td>\n",
              "      <td>Human</td>\n",
              "    </tr>\n",
              "    <tr>\n",
              "      <th>9</th>\n",
              "      <td>Obi-Wan Kenobi</td>\n",
              "      <td>182.0</td>\n",
              "      <td>77.0</td>\n",
              "      <td>auburn, white</td>\n",
              "      <td>fair</td>\n",
              "      <td>blue-gray</td>\n",
              "      <td>57.0</td>\n",
              "      <td>male</td>\n",
              "      <td>masculine</td>\n",
              "      <td>Stewjon</td>\n",
              "      <td>Human</td>\n",
              "    </tr>\n",
              "  </tbody>\n",
              "</table>\n",
              "</div>\n",
              "      <button class=\"colab-df-convert\" onclick=\"convertToInteractive('df-4294d1fd-5560-4d6b-a2f8-c6388d80eb13')\"\n",
              "              title=\"Convert this dataframe to an interactive table.\"\n",
              "              style=\"display:none;\">\n",
              "        \n",
              "  <svg xmlns=\"http://www.w3.org/2000/svg\" height=\"24px\"viewBox=\"0 0 24 24\"\n",
              "       width=\"24px\">\n",
              "    <path d=\"M0 0h24v24H0V0z\" fill=\"none\"/>\n",
              "    <path d=\"M18.56 5.44l.94 2.06.94-2.06 2.06-.94-2.06-.94-.94-2.06-.94 2.06-2.06.94zm-11 1L8.5 8.5l.94-2.06 2.06-.94-2.06-.94L8.5 2.5l-.94 2.06-2.06.94zm10 10l.94 2.06.94-2.06 2.06-.94-2.06-.94-.94-2.06-.94 2.06-2.06.94z\"/><path d=\"M17.41 7.96l-1.37-1.37c-.4-.4-.92-.59-1.43-.59-.52 0-1.04.2-1.43.59L10.3 9.45l-7.72 7.72c-.78.78-.78 2.05 0 2.83L4 21.41c.39.39.9.59 1.41.59.51 0 1.02-.2 1.41-.59l7.78-7.78 2.81-2.81c.8-.78.8-2.07 0-2.86zM5.41 20L4 18.59l7.72-7.72 1.47 1.35L5.41 20z\"/>\n",
              "  </svg>\n",
              "      </button>\n",
              "      \n",
              "  <style>\n",
              "    .colab-df-container {\n",
              "      display:flex;\n",
              "      flex-wrap:wrap;\n",
              "      gap: 12px;\n",
              "    }\n",
              "\n",
              "    .colab-df-convert {\n",
              "      background-color: #E8F0FE;\n",
              "      border: none;\n",
              "      border-radius: 50%;\n",
              "      cursor: pointer;\n",
              "      display: none;\n",
              "      fill: #1967D2;\n",
              "      height: 32px;\n",
              "      padding: 0 0 0 0;\n",
              "      width: 32px;\n",
              "    }\n",
              "\n",
              "    .colab-df-convert:hover {\n",
              "      background-color: #E2EBFA;\n",
              "      box-shadow: 0px 1px 2px rgba(60, 64, 67, 0.3), 0px 1px 3px 1px rgba(60, 64, 67, 0.15);\n",
              "      fill: #174EA6;\n",
              "    }\n",
              "\n",
              "    [theme=dark] .colab-df-convert {\n",
              "      background-color: #3B4455;\n",
              "      fill: #D2E3FC;\n",
              "    }\n",
              "\n",
              "    [theme=dark] .colab-df-convert:hover {\n",
              "      background-color: #434B5C;\n",
              "      box-shadow: 0px 1px 3px 1px rgba(0, 0, 0, 0.15);\n",
              "      filter: drop-shadow(0px 1px 2px rgba(0, 0, 0, 0.3));\n",
              "      fill: #FFFFFF;\n",
              "    }\n",
              "  </style>\n",
              "\n",
              "      <script>\n",
              "        const buttonEl =\n",
              "          document.querySelector('#df-4294d1fd-5560-4d6b-a2f8-c6388d80eb13 button.colab-df-convert');\n",
              "        buttonEl.style.display =\n",
              "          google.colab.kernel.accessAllowed ? 'block' : 'none';\n",
              "\n",
              "        async function convertToInteractive(key) {\n",
              "          const element = document.querySelector('#df-4294d1fd-5560-4d6b-a2f8-c6388d80eb13');\n",
              "          const dataTable =\n",
              "            await google.colab.kernel.invokeFunction('convertToInteractive',\n",
              "                                                     [key], {});\n",
              "          if (!dataTable) return;\n",
              "\n",
              "          const docLinkHtml = 'Like what you see? Visit the ' +\n",
              "            '<a target=\"_blank\" href=https://colab.research.google.com/notebooks/data_table.ipynb>data table notebook</a>'\n",
              "            + ' to learn more about interactive tables.';\n",
              "          element.innerHTML = '';\n",
              "          dataTable['output_type'] = 'display_data';\n",
              "          await google.colab.output.renderOutput(dataTable, element);\n",
              "          const docLink = document.createElement('div');\n",
              "          docLink.innerHTML = docLinkHtml;\n",
              "          element.appendChild(docLink);\n",
              "        }\n",
              "      </script>\n",
              "    </div>\n",
              "  </div>\n",
              "  "
            ]
          },
          "metadata": {},
          "execution_count": 186
        }
      ]
    },
    {
      "cell_type": "markdown",
      "source": [
        "1.g) Mostrar los ultimos 5 registros"
      ],
      "metadata": {
        "id": "rQRr2ac7k08J"
      }
    },
    {
      "cell_type": "code",
      "source": [
        "datos.tail()"
      ],
      "metadata": {
        "id": "w9raCMSNqlO-",
        "colab": {
          "base_uri": "https://localhost:8080/",
          "height": 206
        },
        "outputId": "cc841156-f4bb-4e09-80d8-b7cba2cd8e8d"
      },
      "execution_count": 185,
      "outputs": [
        {
          "output_type": "execute_result",
          "data": {
            "text/plain": [
              "              name  height  mass hair_color skin_color eye_color  birth_year  \\\n",
              "82             Rey     NaN   NaN      brown      light     hazel         NaN   \n",
              "83     Poe Dameron     NaN   NaN      brown      light     brown         NaN   \n",
              "84             BB8     NaN   NaN       none       none     black         NaN   \n",
              "85  Captain Phasma     NaN   NaN    unknown    unknown   unknown         NaN   \n",
              "86   Padmé Amidala   165.0  45.0      brown      light     brown        46.0   \n",
              "\n",
              "       sex     gender homeworld species  \n",
              "82  female   feminine       NaN   Human  \n",
              "83    male  masculine       NaN   Human  \n",
              "84    none  masculine       NaN   Droid  \n",
              "85     NaN        NaN       NaN     NaN  \n",
              "86  female   feminine     Naboo   Human  "
            ],
            "text/html": [
              "\n",
              "  <div id=\"df-c495dd3a-b769-4ef6-accb-58250bfdafe8\">\n",
              "    <div class=\"colab-df-container\">\n",
              "      <div>\n",
              "<style scoped>\n",
              "    .dataframe tbody tr th:only-of-type {\n",
              "        vertical-align: middle;\n",
              "    }\n",
              "\n",
              "    .dataframe tbody tr th {\n",
              "        vertical-align: top;\n",
              "    }\n",
              "\n",
              "    .dataframe thead th {\n",
              "        text-align: right;\n",
              "    }\n",
              "</style>\n",
              "<table border=\"1\" class=\"dataframe\">\n",
              "  <thead>\n",
              "    <tr style=\"text-align: right;\">\n",
              "      <th></th>\n",
              "      <th>name</th>\n",
              "      <th>height</th>\n",
              "      <th>mass</th>\n",
              "      <th>hair_color</th>\n",
              "      <th>skin_color</th>\n",
              "      <th>eye_color</th>\n",
              "      <th>birth_year</th>\n",
              "      <th>sex</th>\n",
              "      <th>gender</th>\n",
              "      <th>homeworld</th>\n",
              "      <th>species</th>\n",
              "    </tr>\n",
              "  </thead>\n",
              "  <tbody>\n",
              "    <tr>\n",
              "      <th>82</th>\n",
              "      <td>Rey</td>\n",
              "      <td>NaN</td>\n",
              "      <td>NaN</td>\n",
              "      <td>brown</td>\n",
              "      <td>light</td>\n",
              "      <td>hazel</td>\n",
              "      <td>NaN</td>\n",
              "      <td>female</td>\n",
              "      <td>feminine</td>\n",
              "      <td>NaN</td>\n",
              "      <td>Human</td>\n",
              "    </tr>\n",
              "    <tr>\n",
              "      <th>83</th>\n",
              "      <td>Poe Dameron</td>\n",
              "      <td>NaN</td>\n",
              "      <td>NaN</td>\n",
              "      <td>brown</td>\n",
              "      <td>light</td>\n",
              "      <td>brown</td>\n",
              "      <td>NaN</td>\n",
              "      <td>male</td>\n",
              "      <td>masculine</td>\n",
              "      <td>NaN</td>\n",
              "      <td>Human</td>\n",
              "    </tr>\n",
              "    <tr>\n",
              "      <th>84</th>\n",
              "      <td>BB8</td>\n",
              "      <td>NaN</td>\n",
              "      <td>NaN</td>\n",
              "      <td>none</td>\n",
              "      <td>none</td>\n",
              "      <td>black</td>\n",
              "      <td>NaN</td>\n",
              "      <td>none</td>\n",
              "      <td>masculine</td>\n",
              "      <td>NaN</td>\n",
              "      <td>Droid</td>\n",
              "    </tr>\n",
              "    <tr>\n",
              "      <th>85</th>\n",
              "      <td>Captain Phasma</td>\n",
              "      <td>NaN</td>\n",
              "      <td>NaN</td>\n",
              "      <td>unknown</td>\n",
              "      <td>unknown</td>\n",
              "      <td>unknown</td>\n",
              "      <td>NaN</td>\n",
              "      <td>NaN</td>\n",
              "      <td>NaN</td>\n",
              "      <td>NaN</td>\n",
              "      <td>NaN</td>\n",
              "    </tr>\n",
              "    <tr>\n",
              "      <th>86</th>\n",
              "      <td>Padmé Amidala</td>\n",
              "      <td>165.0</td>\n",
              "      <td>45.0</td>\n",
              "      <td>brown</td>\n",
              "      <td>light</td>\n",
              "      <td>brown</td>\n",
              "      <td>46.0</td>\n",
              "      <td>female</td>\n",
              "      <td>feminine</td>\n",
              "      <td>Naboo</td>\n",
              "      <td>Human</td>\n",
              "    </tr>\n",
              "  </tbody>\n",
              "</table>\n",
              "</div>\n",
              "      <button class=\"colab-df-convert\" onclick=\"convertToInteractive('df-c495dd3a-b769-4ef6-accb-58250bfdafe8')\"\n",
              "              title=\"Convert this dataframe to an interactive table.\"\n",
              "              style=\"display:none;\">\n",
              "        \n",
              "  <svg xmlns=\"http://www.w3.org/2000/svg\" height=\"24px\"viewBox=\"0 0 24 24\"\n",
              "       width=\"24px\">\n",
              "    <path d=\"M0 0h24v24H0V0z\" fill=\"none\"/>\n",
              "    <path d=\"M18.56 5.44l.94 2.06.94-2.06 2.06-.94-2.06-.94-.94-2.06-.94 2.06-2.06.94zm-11 1L8.5 8.5l.94-2.06 2.06-.94-2.06-.94L8.5 2.5l-.94 2.06-2.06.94zm10 10l.94 2.06.94-2.06 2.06-.94-2.06-.94-.94-2.06-.94 2.06-2.06.94z\"/><path d=\"M17.41 7.96l-1.37-1.37c-.4-.4-.92-.59-1.43-.59-.52 0-1.04.2-1.43.59L10.3 9.45l-7.72 7.72c-.78.78-.78 2.05 0 2.83L4 21.41c.39.39.9.59 1.41.59.51 0 1.02-.2 1.41-.59l7.78-7.78 2.81-2.81c.8-.78.8-2.07 0-2.86zM5.41 20L4 18.59l7.72-7.72 1.47 1.35L5.41 20z\"/>\n",
              "  </svg>\n",
              "      </button>\n",
              "      \n",
              "  <style>\n",
              "    .colab-df-container {\n",
              "      display:flex;\n",
              "      flex-wrap:wrap;\n",
              "      gap: 12px;\n",
              "    }\n",
              "\n",
              "    .colab-df-convert {\n",
              "      background-color: #E8F0FE;\n",
              "      border: none;\n",
              "      border-radius: 50%;\n",
              "      cursor: pointer;\n",
              "      display: none;\n",
              "      fill: #1967D2;\n",
              "      height: 32px;\n",
              "      padding: 0 0 0 0;\n",
              "      width: 32px;\n",
              "    }\n",
              "\n",
              "    .colab-df-convert:hover {\n",
              "      background-color: #E2EBFA;\n",
              "      box-shadow: 0px 1px 2px rgba(60, 64, 67, 0.3), 0px 1px 3px 1px rgba(60, 64, 67, 0.15);\n",
              "      fill: #174EA6;\n",
              "    }\n",
              "\n",
              "    [theme=dark] .colab-df-convert {\n",
              "      background-color: #3B4455;\n",
              "      fill: #D2E3FC;\n",
              "    }\n",
              "\n",
              "    [theme=dark] .colab-df-convert:hover {\n",
              "      background-color: #434B5C;\n",
              "      box-shadow: 0px 1px 3px 1px rgba(0, 0, 0, 0.15);\n",
              "      filter: drop-shadow(0px 1px 2px rgba(0, 0, 0, 0.3));\n",
              "      fill: #FFFFFF;\n",
              "    }\n",
              "  </style>\n",
              "\n",
              "      <script>\n",
              "        const buttonEl =\n",
              "          document.querySelector('#df-c495dd3a-b769-4ef6-accb-58250bfdafe8 button.colab-df-convert');\n",
              "        buttonEl.style.display =\n",
              "          google.colab.kernel.accessAllowed ? 'block' : 'none';\n",
              "\n",
              "        async function convertToInteractive(key) {\n",
              "          const element = document.querySelector('#df-c495dd3a-b769-4ef6-accb-58250bfdafe8');\n",
              "          const dataTable =\n",
              "            await google.colab.kernel.invokeFunction('convertToInteractive',\n",
              "                                                     [key], {});\n",
              "          if (!dataTable) return;\n",
              "\n",
              "          const docLinkHtml = 'Like what you see? Visit the ' +\n",
              "            '<a target=\"_blank\" href=https://colab.research.google.com/notebooks/data_table.ipynb>data table notebook</a>'\n",
              "            + ' to learn more about interactive tables.';\n",
              "          element.innerHTML = '';\n",
              "          dataTable['output_type'] = 'display_data';\n",
              "          await google.colab.output.renderOutput(dataTable, element);\n",
              "          const docLink = document.createElement('div');\n",
              "          docLink.innerHTML = docLinkHtml;\n",
              "          element.appendChild(docLink);\n",
              "        }\n",
              "      </script>\n",
              "    </div>\n",
              "  </div>\n",
              "  "
            ]
          },
          "metadata": {},
          "execution_count": 185
        }
      ]
    },
    {
      "cell_type": "markdown",
      "source": [
        "## 2) Preparacion de datos"
      ],
      "metadata": {
        "id": "Im7YnKtKoL1n"
      }
    },
    {
      "cell_type": "markdown",
      "source": [
        "2.a) Obtener nulos de la columna species (tip: seleccionar primero los nulos de la columna, por ejemplo 'dataframe['columna'].isna()' y usarlos luego para filtrar los nulos)"
      ],
      "metadata": {
        "id": "GTvgnHXIlHz8"
      }
    },
    {
      "cell_type": "code",
      "source": [
        "datos[datos['species'].isna()]"
      ],
      "metadata": {
        "id": "dK5Db1ryqo7i",
        "colab": {
          "base_uri": "https://localhost:8080/",
          "height": 175
        },
        "outputId": "f325fbca-d8fb-4caf-d005-d36dbab812e1"
      },
      "execution_count": 187,
      "outputs": [
        {
          "output_type": "execute_result",
          "data": {
            "text/plain": [
              "              name  height  mass hair_color skin_color eye_color  birth_year  \\\n",
              "36        Ric Olié   183.0   NaN      brown       fair      blue         NaN   \n",
              "39   Quarsh Panaka   183.0   NaN      black       dark     brown        62.0   \n",
              "79       Sly Moore   178.0  48.0       none       pale     white         NaN   \n",
              "85  Captain Phasma     NaN   NaN    unknown    unknown   unknown         NaN   \n",
              "\n",
              "    sex gender homeworld species  \n",
              "36  NaN    NaN     Naboo     NaN  \n",
              "39  NaN    NaN     Naboo     NaN  \n",
              "79  NaN    NaN    Umbara     NaN  \n",
              "85  NaN    NaN       NaN     NaN  "
            ],
            "text/html": [
              "\n",
              "  <div id=\"df-effb1b32-478f-48c6-8403-fe5e5a477b0d\">\n",
              "    <div class=\"colab-df-container\">\n",
              "      <div>\n",
              "<style scoped>\n",
              "    .dataframe tbody tr th:only-of-type {\n",
              "        vertical-align: middle;\n",
              "    }\n",
              "\n",
              "    .dataframe tbody tr th {\n",
              "        vertical-align: top;\n",
              "    }\n",
              "\n",
              "    .dataframe thead th {\n",
              "        text-align: right;\n",
              "    }\n",
              "</style>\n",
              "<table border=\"1\" class=\"dataframe\">\n",
              "  <thead>\n",
              "    <tr style=\"text-align: right;\">\n",
              "      <th></th>\n",
              "      <th>name</th>\n",
              "      <th>height</th>\n",
              "      <th>mass</th>\n",
              "      <th>hair_color</th>\n",
              "      <th>skin_color</th>\n",
              "      <th>eye_color</th>\n",
              "      <th>birth_year</th>\n",
              "      <th>sex</th>\n",
              "      <th>gender</th>\n",
              "      <th>homeworld</th>\n",
              "      <th>species</th>\n",
              "    </tr>\n",
              "  </thead>\n",
              "  <tbody>\n",
              "    <tr>\n",
              "      <th>36</th>\n",
              "      <td>Ric Olié</td>\n",
              "      <td>183.0</td>\n",
              "      <td>NaN</td>\n",
              "      <td>brown</td>\n",
              "      <td>fair</td>\n",
              "      <td>blue</td>\n",
              "      <td>NaN</td>\n",
              "      <td>NaN</td>\n",
              "      <td>NaN</td>\n",
              "      <td>Naboo</td>\n",
              "      <td>NaN</td>\n",
              "    </tr>\n",
              "    <tr>\n",
              "      <th>39</th>\n",
              "      <td>Quarsh Panaka</td>\n",
              "      <td>183.0</td>\n",
              "      <td>NaN</td>\n",
              "      <td>black</td>\n",
              "      <td>dark</td>\n",
              "      <td>brown</td>\n",
              "      <td>62.0</td>\n",
              "      <td>NaN</td>\n",
              "      <td>NaN</td>\n",
              "      <td>Naboo</td>\n",
              "      <td>NaN</td>\n",
              "    </tr>\n",
              "    <tr>\n",
              "      <th>79</th>\n",
              "      <td>Sly Moore</td>\n",
              "      <td>178.0</td>\n",
              "      <td>48.0</td>\n",
              "      <td>none</td>\n",
              "      <td>pale</td>\n",
              "      <td>white</td>\n",
              "      <td>NaN</td>\n",
              "      <td>NaN</td>\n",
              "      <td>NaN</td>\n",
              "      <td>Umbara</td>\n",
              "      <td>NaN</td>\n",
              "    </tr>\n",
              "    <tr>\n",
              "      <th>85</th>\n",
              "      <td>Captain Phasma</td>\n",
              "      <td>NaN</td>\n",
              "      <td>NaN</td>\n",
              "      <td>unknown</td>\n",
              "      <td>unknown</td>\n",
              "      <td>unknown</td>\n",
              "      <td>NaN</td>\n",
              "      <td>NaN</td>\n",
              "      <td>NaN</td>\n",
              "      <td>NaN</td>\n",
              "      <td>NaN</td>\n",
              "    </tr>\n",
              "  </tbody>\n",
              "</table>\n",
              "</div>\n",
              "      <button class=\"colab-df-convert\" onclick=\"convertToInteractive('df-effb1b32-478f-48c6-8403-fe5e5a477b0d')\"\n",
              "              title=\"Convert this dataframe to an interactive table.\"\n",
              "              style=\"display:none;\">\n",
              "        \n",
              "  <svg xmlns=\"http://www.w3.org/2000/svg\" height=\"24px\"viewBox=\"0 0 24 24\"\n",
              "       width=\"24px\">\n",
              "    <path d=\"M0 0h24v24H0V0z\" fill=\"none\"/>\n",
              "    <path d=\"M18.56 5.44l.94 2.06.94-2.06 2.06-.94-2.06-.94-.94-2.06-.94 2.06-2.06.94zm-11 1L8.5 8.5l.94-2.06 2.06-.94-2.06-.94L8.5 2.5l-.94 2.06-2.06.94zm10 10l.94 2.06.94-2.06 2.06-.94-2.06-.94-.94-2.06-.94 2.06-2.06.94z\"/><path d=\"M17.41 7.96l-1.37-1.37c-.4-.4-.92-.59-1.43-.59-.52 0-1.04.2-1.43.59L10.3 9.45l-7.72 7.72c-.78.78-.78 2.05 0 2.83L4 21.41c.39.39.9.59 1.41.59.51 0 1.02-.2 1.41-.59l7.78-7.78 2.81-2.81c.8-.78.8-2.07 0-2.86zM5.41 20L4 18.59l7.72-7.72 1.47 1.35L5.41 20z\"/>\n",
              "  </svg>\n",
              "      </button>\n",
              "      \n",
              "  <style>\n",
              "    .colab-df-container {\n",
              "      display:flex;\n",
              "      flex-wrap:wrap;\n",
              "      gap: 12px;\n",
              "    }\n",
              "\n",
              "    .colab-df-convert {\n",
              "      background-color: #E8F0FE;\n",
              "      border: none;\n",
              "      border-radius: 50%;\n",
              "      cursor: pointer;\n",
              "      display: none;\n",
              "      fill: #1967D2;\n",
              "      height: 32px;\n",
              "      padding: 0 0 0 0;\n",
              "      width: 32px;\n",
              "    }\n",
              "\n",
              "    .colab-df-convert:hover {\n",
              "      background-color: #E2EBFA;\n",
              "      box-shadow: 0px 1px 2px rgba(60, 64, 67, 0.3), 0px 1px 3px 1px rgba(60, 64, 67, 0.15);\n",
              "      fill: #174EA6;\n",
              "    }\n",
              "\n",
              "    [theme=dark] .colab-df-convert {\n",
              "      background-color: #3B4455;\n",
              "      fill: #D2E3FC;\n",
              "    }\n",
              "\n",
              "    [theme=dark] .colab-df-convert:hover {\n",
              "      background-color: #434B5C;\n",
              "      box-shadow: 0px 1px 3px 1px rgba(0, 0, 0, 0.15);\n",
              "      filter: drop-shadow(0px 1px 2px rgba(0, 0, 0, 0.3));\n",
              "      fill: #FFFFFF;\n",
              "    }\n",
              "  </style>\n",
              "\n",
              "      <script>\n",
              "        const buttonEl =\n",
              "          document.querySelector('#df-effb1b32-478f-48c6-8403-fe5e5a477b0d button.colab-df-convert');\n",
              "        buttonEl.style.display =\n",
              "          google.colab.kernel.accessAllowed ? 'block' : 'none';\n",
              "\n",
              "        async function convertToInteractive(key) {\n",
              "          const element = document.querySelector('#df-effb1b32-478f-48c6-8403-fe5e5a477b0d');\n",
              "          const dataTable =\n",
              "            await google.colab.kernel.invokeFunction('convertToInteractive',\n",
              "                                                     [key], {});\n",
              "          if (!dataTable) return;\n",
              "\n",
              "          const docLinkHtml = 'Like what you see? Visit the ' +\n",
              "            '<a target=\"_blank\" href=https://colab.research.google.com/notebooks/data_table.ipynb>data table notebook</a>'\n",
              "            + ' to learn more about interactive tables.';\n",
              "          element.innerHTML = '';\n",
              "          dataTable['output_type'] = 'display_data';\n",
              "          await google.colab.output.renderOutput(dataTable, element);\n",
              "          const docLink = document.createElement('div');\n",
              "          docLink.innerHTML = docLinkHtml;\n",
              "          element.appendChild(docLink);\n",
              "        }\n",
              "      </script>\n",
              "    </div>\n",
              "  </div>\n",
              "  "
            ]
          },
          "metadata": {},
          "execution_count": 187
        }
      ]
    },
    {
      "cell_type": "markdown",
      "source": [
        "2.b) Reemplazar nulos en la columna 'species' por el string 'Unknown'"
      ],
      "metadata": {
        "id": "1SMuSihymHA3"
      }
    },
    {
      "cell_type": "code",
      "source": [
        "datos.species.fillna(\"Unknown\",inplace=True)"
      ],
      "metadata": {
        "id": "sw9bJTesqpPG"
      },
      "execution_count": 188,
      "outputs": []
    },
    {
      "cell_type": "markdown",
      "source": [
        "2.c) Reemplazar nulos de la columna 'mass' por la mediana de la columna"
      ],
      "metadata": {
        "id": "kK3b6qU4m3zV"
      }
    },
    {
      "cell_type": "code",
      "source": [
        "datos.mass.fillna(datos.mass.mean(),inplace=True)"
      ],
      "metadata": {
        "id": "Fhbv4IejqpnU"
      },
      "execution_count": 189,
      "outputs": []
    },
    {
      "cell_type": "markdown",
      "source": [
        "2.d) Eliminar las columnas 'sex' y 'skin_color'"
      ],
      "metadata": {
        "id": "Wcv5ULR9nyJN"
      }
    },
    {
      "cell_type": "code",
      "source": [
        "datos.drop(['sex','skin_color'],axis=1,inplace=True)"
      ],
      "metadata": {
        "id": "mddOOM7mqp6l"
      },
      "execution_count": 190,
      "outputs": []
    },
    {
      "cell_type": "markdown",
      "source": [
        "2.f) Ordenar el dataframe ascendentemente por la columna mass"
      ],
      "metadata": {
        "id": "6WVEe1lAS3bk"
      }
    },
    {
      "cell_type": "code",
      "source": [
        "datos.sort_values(by='mass',ascending=True)"
      ],
      "metadata": {
        "id": "KeE9e-s6qqOr",
        "colab": {
          "base_uri": "https://localhost:8080/",
          "height": 424
        },
        "outputId": "8ef850af-e700-49b5-dcc8-4c1d22c706bc"
      },
      "execution_count": 191,
      "outputs": [
        {
          "output_type": "execute_result",
          "data": {
            "text/plain": [
              "                     name  height    mass hair_color      eye_color  \\\n",
              "71          Ratts Tyerell    79.0    15.0       none        unknown   \n",
              "18                   Yoda    66.0    17.0      white          brown   \n",
              "28  Wicket Systri Warrick    88.0    20.0      brown          brown   \n",
              "2                   R2-D2    96.0    32.0        NaN            red   \n",
              "7                   R5-D4    97.0    32.0        NaN            red   \n",
              "..                    ...     ...     ...        ...            ...   \n",
              "3             Darth Vader   202.0   136.0       none         yellow   \n",
              "77                Tarfful   234.0   136.0      brown           blue   \n",
              "21                  IG-88   200.0   140.0       none            red   \n",
              "76               Grievous   216.0   159.0       none  green, yellow   \n",
              "15  Jabba Desilijic Tiure   175.0  1358.0        NaN         orange   \n",
              "\n",
              "    birth_year     gender    homeworld         species  \n",
              "71         NaN  masculine  Aleen Minor          Aleena  \n",
              "18       896.0  masculine          NaN  Yoda's species  \n",
              "28         8.0  masculine        Endor            Ewok  \n",
              "2         33.0  masculine        Naboo           Droid  \n",
              "7          NaN  masculine     Tatooine           Droid  \n",
              "..         ...        ...          ...             ...  \n",
              "3         41.9  masculine     Tatooine           Human  \n",
              "77         NaN  masculine     Kashyyyk         Wookiee  \n",
              "21        15.0  masculine          NaN           Droid  \n",
              "76         NaN  masculine        Kalee         Kaleesh  \n",
              "15       600.0  masculine    Nal Hutta            Hutt  \n",
              "\n",
              "[87 rows x 9 columns]"
            ],
            "text/html": [
              "\n",
              "  <div id=\"df-a2b13838-18a2-465c-a8d1-3685935aaec8\">\n",
              "    <div class=\"colab-df-container\">\n",
              "      <div>\n",
              "<style scoped>\n",
              "    .dataframe tbody tr th:only-of-type {\n",
              "        vertical-align: middle;\n",
              "    }\n",
              "\n",
              "    .dataframe tbody tr th {\n",
              "        vertical-align: top;\n",
              "    }\n",
              "\n",
              "    .dataframe thead th {\n",
              "        text-align: right;\n",
              "    }\n",
              "</style>\n",
              "<table border=\"1\" class=\"dataframe\">\n",
              "  <thead>\n",
              "    <tr style=\"text-align: right;\">\n",
              "      <th></th>\n",
              "      <th>name</th>\n",
              "      <th>height</th>\n",
              "      <th>mass</th>\n",
              "      <th>hair_color</th>\n",
              "      <th>eye_color</th>\n",
              "      <th>birth_year</th>\n",
              "      <th>gender</th>\n",
              "      <th>homeworld</th>\n",
              "      <th>species</th>\n",
              "    </tr>\n",
              "  </thead>\n",
              "  <tbody>\n",
              "    <tr>\n",
              "      <th>71</th>\n",
              "      <td>Ratts Tyerell</td>\n",
              "      <td>79.0</td>\n",
              "      <td>15.0</td>\n",
              "      <td>none</td>\n",
              "      <td>unknown</td>\n",
              "      <td>NaN</td>\n",
              "      <td>masculine</td>\n",
              "      <td>Aleen Minor</td>\n",
              "      <td>Aleena</td>\n",
              "    </tr>\n",
              "    <tr>\n",
              "      <th>18</th>\n",
              "      <td>Yoda</td>\n",
              "      <td>66.0</td>\n",
              "      <td>17.0</td>\n",
              "      <td>white</td>\n",
              "      <td>brown</td>\n",
              "      <td>896.0</td>\n",
              "      <td>masculine</td>\n",
              "      <td>NaN</td>\n",
              "      <td>Yoda's species</td>\n",
              "    </tr>\n",
              "    <tr>\n",
              "      <th>28</th>\n",
              "      <td>Wicket Systri Warrick</td>\n",
              "      <td>88.0</td>\n",
              "      <td>20.0</td>\n",
              "      <td>brown</td>\n",
              "      <td>brown</td>\n",
              "      <td>8.0</td>\n",
              "      <td>masculine</td>\n",
              "      <td>Endor</td>\n",
              "      <td>Ewok</td>\n",
              "    </tr>\n",
              "    <tr>\n",
              "      <th>2</th>\n",
              "      <td>R2-D2</td>\n",
              "      <td>96.0</td>\n",
              "      <td>32.0</td>\n",
              "      <td>NaN</td>\n",
              "      <td>red</td>\n",
              "      <td>33.0</td>\n",
              "      <td>masculine</td>\n",
              "      <td>Naboo</td>\n",
              "      <td>Droid</td>\n",
              "    </tr>\n",
              "    <tr>\n",
              "      <th>7</th>\n",
              "      <td>R5-D4</td>\n",
              "      <td>97.0</td>\n",
              "      <td>32.0</td>\n",
              "      <td>NaN</td>\n",
              "      <td>red</td>\n",
              "      <td>NaN</td>\n",
              "      <td>masculine</td>\n",
              "      <td>Tatooine</td>\n",
              "      <td>Droid</td>\n",
              "    </tr>\n",
              "    <tr>\n",
              "      <th>...</th>\n",
              "      <td>...</td>\n",
              "      <td>...</td>\n",
              "      <td>...</td>\n",
              "      <td>...</td>\n",
              "      <td>...</td>\n",
              "      <td>...</td>\n",
              "      <td>...</td>\n",
              "      <td>...</td>\n",
              "      <td>...</td>\n",
              "    </tr>\n",
              "    <tr>\n",
              "      <th>3</th>\n",
              "      <td>Darth Vader</td>\n",
              "      <td>202.0</td>\n",
              "      <td>136.0</td>\n",
              "      <td>none</td>\n",
              "      <td>yellow</td>\n",
              "      <td>41.9</td>\n",
              "      <td>masculine</td>\n",
              "      <td>Tatooine</td>\n",
              "      <td>Human</td>\n",
              "    </tr>\n",
              "    <tr>\n",
              "      <th>77</th>\n",
              "      <td>Tarfful</td>\n",
              "      <td>234.0</td>\n",
              "      <td>136.0</td>\n",
              "      <td>brown</td>\n",
              "      <td>blue</td>\n",
              "      <td>NaN</td>\n",
              "      <td>masculine</td>\n",
              "      <td>Kashyyyk</td>\n",
              "      <td>Wookiee</td>\n",
              "    </tr>\n",
              "    <tr>\n",
              "      <th>21</th>\n",
              "      <td>IG-88</td>\n",
              "      <td>200.0</td>\n",
              "      <td>140.0</td>\n",
              "      <td>none</td>\n",
              "      <td>red</td>\n",
              "      <td>15.0</td>\n",
              "      <td>masculine</td>\n",
              "      <td>NaN</td>\n",
              "      <td>Droid</td>\n",
              "    </tr>\n",
              "    <tr>\n",
              "      <th>76</th>\n",
              "      <td>Grievous</td>\n",
              "      <td>216.0</td>\n",
              "      <td>159.0</td>\n",
              "      <td>none</td>\n",
              "      <td>green, yellow</td>\n",
              "      <td>NaN</td>\n",
              "      <td>masculine</td>\n",
              "      <td>Kalee</td>\n",
              "      <td>Kaleesh</td>\n",
              "    </tr>\n",
              "    <tr>\n",
              "      <th>15</th>\n",
              "      <td>Jabba Desilijic Tiure</td>\n",
              "      <td>175.0</td>\n",
              "      <td>1358.0</td>\n",
              "      <td>NaN</td>\n",
              "      <td>orange</td>\n",
              "      <td>600.0</td>\n",
              "      <td>masculine</td>\n",
              "      <td>Nal Hutta</td>\n",
              "      <td>Hutt</td>\n",
              "    </tr>\n",
              "  </tbody>\n",
              "</table>\n",
              "<p>87 rows × 9 columns</p>\n",
              "</div>\n",
              "      <button class=\"colab-df-convert\" onclick=\"convertToInteractive('df-a2b13838-18a2-465c-a8d1-3685935aaec8')\"\n",
              "              title=\"Convert this dataframe to an interactive table.\"\n",
              "              style=\"display:none;\">\n",
              "        \n",
              "  <svg xmlns=\"http://www.w3.org/2000/svg\" height=\"24px\"viewBox=\"0 0 24 24\"\n",
              "       width=\"24px\">\n",
              "    <path d=\"M0 0h24v24H0V0z\" fill=\"none\"/>\n",
              "    <path d=\"M18.56 5.44l.94 2.06.94-2.06 2.06-.94-2.06-.94-.94-2.06-.94 2.06-2.06.94zm-11 1L8.5 8.5l.94-2.06 2.06-.94-2.06-.94L8.5 2.5l-.94 2.06-2.06.94zm10 10l.94 2.06.94-2.06 2.06-.94-2.06-.94-.94-2.06-.94 2.06-2.06.94z\"/><path d=\"M17.41 7.96l-1.37-1.37c-.4-.4-.92-.59-1.43-.59-.52 0-1.04.2-1.43.59L10.3 9.45l-7.72 7.72c-.78.78-.78 2.05 0 2.83L4 21.41c.39.39.9.59 1.41.59.51 0 1.02-.2 1.41-.59l7.78-7.78 2.81-2.81c.8-.78.8-2.07 0-2.86zM5.41 20L4 18.59l7.72-7.72 1.47 1.35L5.41 20z\"/>\n",
              "  </svg>\n",
              "      </button>\n",
              "      \n",
              "  <style>\n",
              "    .colab-df-container {\n",
              "      display:flex;\n",
              "      flex-wrap:wrap;\n",
              "      gap: 12px;\n",
              "    }\n",
              "\n",
              "    .colab-df-convert {\n",
              "      background-color: #E8F0FE;\n",
              "      border: none;\n",
              "      border-radius: 50%;\n",
              "      cursor: pointer;\n",
              "      display: none;\n",
              "      fill: #1967D2;\n",
              "      height: 32px;\n",
              "      padding: 0 0 0 0;\n",
              "      width: 32px;\n",
              "    }\n",
              "\n",
              "    .colab-df-convert:hover {\n",
              "      background-color: #E2EBFA;\n",
              "      box-shadow: 0px 1px 2px rgba(60, 64, 67, 0.3), 0px 1px 3px 1px rgba(60, 64, 67, 0.15);\n",
              "      fill: #174EA6;\n",
              "    }\n",
              "\n",
              "    [theme=dark] .colab-df-convert {\n",
              "      background-color: #3B4455;\n",
              "      fill: #D2E3FC;\n",
              "    }\n",
              "\n",
              "    [theme=dark] .colab-df-convert:hover {\n",
              "      background-color: #434B5C;\n",
              "      box-shadow: 0px 1px 3px 1px rgba(0, 0, 0, 0.15);\n",
              "      filter: drop-shadow(0px 1px 2px rgba(0, 0, 0, 0.3));\n",
              "      fill: #FFFFFF;\n",
              "    }\n",
              "  </style>\n",
              "\n",
              "      <script>\n",
              "        const buttonEl =\n",
              "          document.querySelector('#df-a2b13838-18a2-465c-a8d1-3685935aaec8 button.colab-df-convert');\n",
              "        buttonEl.style.display =\n",
              "          google.colab.kernel.accessAllowed ? 'block' : 'none';\n",
              "\n",
              "        async function convertToInteractive(key) {\n",
              "          const element = document.querySelector('#df-a2b13838-18a2-465c-a8d1-3685935aaec8');\n",
              "          const dataTable =\n",
              "            await google.colab.kernel.invokeFunction('convertToInteractive',\n",
              "                                                     [key], {});\n",
              "          if (!dataTable) return;\n",
              "\n",
              "          const docLinkHtml = 'Like what you see? Visit the ' +\n",
              "            '<a target=\"_blank\" href=https://colab.research.google.com/notebooks/data_table.ipynb>data table notebook</a>'\n",
              "            + ' to learn more about interactive tables.';\n",
              "          element.innerHTML = '';\n",
              "          dataTable['output_type'] = 'display_data';\n",
              "          await google.colab.output.renderOutput(dataTable, element);\n",
              "          const docLink = document.createElement('div');\n",
              "          docLink.innerHTML = docLinkHtml;\n",
              "          element.appendChild(docLink);\n",
              "        }\n",
              "      </script>\n",
              "    </div>\n",
              "  </div>\n",
              "  "
            ]
          },
          "metadata": {},
          "execution_count": 191
        }
      ]
    },
    {
      "cell_type": "markdown",
      "source": [
        "2.g) Crear una nueva columna llamada mass_lb"
      ],
      "metadata": {
        "id": "_JmTQzdAT72N"
      }
    },
    {
      "cell_type": "code",
      "source": [
        "datos['mass_lb']=pd.Series()"
      ],
      "metadata": {
        "id": "BDPEibZgqquK",
        "colab": {
          "base_uri": "https://localhost:8080/"
        },
        "outputId": "65646773-8c8b-4537-b89e-6ee006e1faa6"
      },
      "execution_count": 192,
      "outputs": [
        {
          "output_type": "stream",
          "name": "stderr",
          "text": [
            "<ipython-input-192-d687edc6ae4a>:1: FutureWarning: The default dtype for empty Series will be 'object' instead of 'float64' in a future version. Specify a dtype explicitly to silence this warning.\n",
            "  datos['mass_lb']=pd.Series()\n"
          ]
        }
      ]
    },
    {
      "cell_type": "markdown",
      "source": [
        "2.h) Renombrar la columna 'mass' a 'mass_kg'"
      ],
      "metadata": {
        "id": "YqYc_hXkWIq2"
      }
    },
    {
      "cell_type": "code",
      "source": [
        "datos.rename(columns={\"mass\":\"mass_kg\"},inplace=True)"
      ],
      "metadata": {
        "id": "bogWCieoqrJi"
      },
      "execution_count": 194,
      "outputs": []
    },
    {
      "cell_type": "markdown",
      "source": [
        "2.i) Reordenar las columnas del dataframe, ubicando 'mass_lb' a la derecha de 'mass_kg'"
      ],
      "metadata": {
        "id": "7MbrBKnBVY7p"
      }
    },
    {
      "cell_type": "code",
      "source": [
        "datos=datos[['name', 'height', 'mass_kg', 'mass_lb', 'hair_color', 'eye_color', 'birth_year',\n",
        "       'gender', 'homeworld', 'species']]"
      ],
      "metadata": {
        "id": "joIsfhGHqrkE"
      },
      "execution_count": 197,
      "outputs": []
    },
    {
      "cell_type": "markdown",
      "source": [
        "2.j) Eliminar del dataset, los registros en donde mass_kg sea menor a 20"
      ],
      "metadata": {
        "id": "_le8B5GvXQQo"
      }
    },
    {
      "cell_type": "code",
      "source": [],
      "metadata": {
        "id": "tH0sAIQfqr9G"
      },
      "execution_count": null,
      "outputs": []
    },
    {
      "cell_type": "markdown",
      "source": [
        "## 3) Exportar dataframe"
      ],
      "metadata": {
        "id": "RhGJqjKkoUs7"
      }
    },
    {
      "cell_type": "markdown",
      "source": [
        "Exportar a CSV, usando como separador el caracter |"
      ],
      "metadata": {
        "id": "lb_E3htZYfFo"
      }
    },
    {
      "cell_type": "code",
      "source": [],
      "metadata": {
        "id": "Bb1gnD2qqsv3"
      },
      "execution_count": null,
      "outputs": []
    },
    {
      "cell_type": "markdown",
      "source": [
        "## 4) Ejercicio integrador"
      ],
      "metadata": {
        "id": "wreUTUqaol-G"
      }
    },
    {
      "cell_type": "markdown",
      "source": [
        "Para completar este ejercicio, debes usar el dataframe d_star_wars con todas las modificaciones realizadas en los puntos anteriores"
      ],
      "metadata": {
        "id": "aianfMSvMXEh"
      }
    },
    {
      "cell_type": "markdown",
      "source": [
        "4.a) Reemplazar los nulos de la columna 'birth_year' por el promedio"
      ],
      "metadata": {
        "id": "XI0WL1BxhXP9"
      }
    },
    {
      "cell_type": "code",
      "source": [],
      "metadata": {
        "id": "PUa7W-NBqtqg"
      },
      "execution_count": null,
      "outputs": []
    },
    {
      "cell_type": "markdown",
      "source": [
        "4.b) Eliminar los decimales de la columna 'birth_year' (investigar round() )"
      ],
      "metadata": {
        "id": "uNp_6CmKhjb4"
      }
    },
    {
      "cell_type": "code",
      "source": [],
      "metadata": {
        "id": "xZbMZ7SUqt8d"
      },
      "execution_count": null,
      "outputs": []
    },
    {
      "cell_type": "markdown",
      "source": [
        "4.c) Cambiar el tipo de datos de la columna 'birth_year' de float a integer"
      ],
      "metadata": {
        "id": "1WM9H2qVjZCS"
      }
    },
    {
      "cell_type": "code",
      "source": [],
      "metadata": {
        "id": "g7i4cw8rquRj"
      },
      "execution_count": null,
      "outputs": []
    },
    {
      "cell_type": "markdown",
      "source": [
        "4.d) Cambiar el tipo de datos de la columna 'birth_year' de integer a string"
      ],
      "metadata": {
        "id": "hdO78H5Xhz81"
      }
    },
    {
      "cell_type": "code",
      "source": [],
      "metadata": {
        "id": "Sc4tE1sUquk1"
      },
      "execution_count": null,
      "outputs": []
    },
    {
      "cell_type": "markdown",
      "source": [
        "4.e) Crear una funcion llamada for_sample.\n",
        "      La misma debe, mediante un for, hacer prints en pantalla con el siguiente formato:\n",
        "  `R2-D2 nacido/a en el año 33 en el planeta Naboo`\n",
        "R2-D2(name), 33(birth_year), Naboo(homeworld)\n",
        "\n",
        "      Parametros: \n",
        "      *   df: dataframe \n",
        "      *   iteraciones: cantidad de registros a mostrar en el print (elegir un numero aleatorio)\n",
        "\n"
      ],
      "metadata": {
        "id": "HUrGVWWclrG6"
      }
    },
    {
      "cell_type": "code",
      "source": [],
      "metadata": {
        "id": "QiwFbm_dqvIi"
      },
      "execution_count": null,
      "outputs": []
    }
  ]
}